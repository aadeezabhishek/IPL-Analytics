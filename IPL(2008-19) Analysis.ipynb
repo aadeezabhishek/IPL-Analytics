{
 "cells": [
  {
   "cell_type": "markdown",
   "id": "competent-african",
   "metadata": {},
   "source": [
    "# The Sparks Foundation(TSF)"
   ]
  },
  {
   "cell_type": "markdown",
   "id": "challenging-staff",
   "metadata": {},
   "source": [
    "# Indian Premier League(IPL) Data Analysis (2008-2019)\n",
    "\n",
    "## This dataset consist of each and every delivery and match details from the season 2008-season 2019. There are two different tables, namely; Matches and Delivery, which consists of match details and ball-by-ball details of each match, respectively."
   ]
  },
  {
   "cell_type": "markdown",
   "id": "pharmaceutical-cruise",
   "metadata": {},
   "source": [
    "### Importing required libraries"
   ]
  },
  {
   "cell_type": "code",
   "execution_count": 1,
   "id": "renewable-entrance",
   "metadata": {},
   "outputs": [],
   "source": [
    "import pandas as pd\n",
    "import numpy as np\n",
    "import matplotlib.pyplot as plt\n",
    "import seaborn as sns\n",
    "%matplotlib inline"
   ]
  },
  {
   "cell_type": "code",
   "execution_count": 2,
   "id": "bridal-benjamin",
   "metadata": {},
   "outputs": [],
   "source": [
    "### reading and loading the data\n",
    "delivery = pd.read_csv(r'deliveries.csv')\n",
    "match = pd.read_csv(r'matches.csv')"
   ]
  },
  {
   "cell_type": "markdown",
   "id": "advanced-aviation",
   "metadata": {},
   "source": [
    "### Data Inspection"
   ]
  },
  {
   "cell_type": "code",
   "execution_count": 3,
   "id": "developmental-desperate",
   "metadata": {},
   "outputs": [
    {
     "data": {
      "text/html": [
       "<div>\n",
       "<style scoped>\n",
       "    .dataframe tbody tr th:only-of-type {\n",
       "        vertical-align: middle;\n",
       "    }\n",
       "\n",
       "    .dataframe tbody tr th {\n",
       "        vertical-align: top;\n",
       "    }\n",
       "\n",
       "    .dataframe thead th {\n",
       "        text-align: right;\n",
       "    }\n",
       "</style>\n",
       "<table border=\"1\" class=\"dataframe\">\n",
       "  <thead>\n",
       "    <tr style=\"text-align: right;\">\n",
       "      <th></th>\n",
       "      <th>match_id</th>\n",
       "      <th>inning</th>\n",
       "      <th>batting_team</th>\n",
       "      <th>bowling_team</th>\n",
       "      <th>over</th>\n",
       "      <th>ball</th>\n",
       "      <th>batsman</th>\n",
       "      <th>non_striker</th>\n",
       "      <th>bowler</th>\n",
       "      <th>is_super_over</th>\n",
       "      <th>...</th>\n",
       "      <th>bye_runs</th>\n",
       "      <th>legbye_runs</th>\n",
       "      <th>noball_runs</th>\n",
       "      <th>penalty_runs</th>\n",
       "      <th>batsman_runs</th>\n",
       "      <th>extra_runs</th>\n",
       "      <th>total_runs</th>\n",
       "      <th>player_dismissed</th>\n",
       "      <th>dismissal_kind</th>\n",
       "      <th>fielder</th>\n",
       "    </tr>\n",
       "  </thead>\n",
       "  <tbody>\n",
       "    <tr>\n",
       "      <th>0</th>\n",
       "      <td>1</td>\n",
       "      <td>1</td>\n",
       "      <td>Sunrisers Hyderabad</td>\n",
       "      <td>Royal Challengers Bangalore</td>\n",
       "      <td>1</td>\n",
       "      <td>1</td>\n",
       "      <td>DA Warner</td>\n",
       "      <td>S Dhawan</td>\n",
       "      <td>TS Mills</td>\n",
       "      <td>0</td>\n",
       "      <td>...</td>\n",
       "      <td>0</td>\n",
       "      <td>0</td>\n",
       "      <td>0</td>\n",
       "      <td>0</td>\n",
       "      <td>0</td>\n",
       "      <td>0</td>\n",
       "      <td>0</td>\n",
       "      <td>NaN</td>\n",
       "      <td>NaN</td>\n",
       "      <td>NaN</td>\n",
       "    </tr>\n",
       "    <tr>\n",
       "      <th>1</th>\n",
       "      <td>1</td>\n",
       "      <td>1</td>\n",
       "      <td>Sunrisers Hyderabad</td>\n",
       "      <td>Royal Challengers Bangalore</td>\n",
       "      <td>1</td>\n",
       "      <td>2</td>\n",
       "      <td>DA Warner</td>\n",
       "      <td>S Dhawan</td>\n",
       "      <td>TS Mills</td>\n",
       "      <td>0</td>\n",
       "      <td>...</td>\n",
       "      <td>0</td>\n",
       "      <td>0</td>\n",
       "      <td>0</td>\n",
       "      <td>0</td>\n",
       "      <td>0</td>\n",
       "      <td>0</td>\n",
       "      <td>0</td>\n",
       "      <td>NaN</td>\n",
       "      <td>NaN</td>\n",
       "      <td>NaN</td>\n",
       "    </tr>\n",
       "  </tbody>\n",
       "</table>\n",
       "<p>2 rows × 21 columns</p>\n",
       "</div>"
      ],
      "text/plain": [
       "   match_id  inning         batting_team                 bowling_team  over  \\\n",
       "0         1       1  Sunrisers Hyderabad  Royal Challengers Bangalore     1   \n",
       "1         1       1  Sunrisers Hyderabad  Royal Challengers Bangalore     1   \n",
       "\n",
       "   ball    batsman non_striker    bowler  is_super_over  ...  bye_runs  \\\n",
       "0     1  DA Warner    S Dhawan  TS Mills              0  ...         0   \n",
       "1     2  DA Warner    S Dhawan  TS Mills              0  ...         0   \n",
       "\n",
       "   legbye_runs  noball_runs  penalty_runs  batsman_runs  extra_runs  \\\n",
       "0            0            0             0             0           0   \n",
       "1            0            0             0             0           0   \n",
       "\n",
       "   total_runs  player_dismissed dismissal_kind fielder  \n",
       "0           0               NaN            NaN     NaN  \n",
       "1           0               NaN            NaN     NaN  \n",
       "\n",
       "[2 rows x 21 columns]"
      ]
     },
     "execution_count": 3,
     "metadata": {},
     "output_type": "execute_result"
    }
   ],
   "source": [
    "delivery.head(2)"
   ]
  },
  {
   "cell_type": "code",
   "execution_count": 4,
   "id": "vanilla-illinois",
   "metadata": {},
   "outputs": [
    {
     "data": {
      "text/plain": [
       "(179078, 21)"
      ]
     },
     "execution_count": 4,
     "metadata": {},
     "output_type": "execute_result"
    }
   ],
   "source": [
    "delivery.shape"
   ]
  },
  {
   "cell_type": "code",
   "execution_count": 5,
   "id": "hired-collector",
   "metadata": {},
   "outputs": [
    {
     "data": {
      "text/html": [
       "<div>\n",
       "<style scoped>\n",
       "    .dataframe tbody tr th:only-of-type {\n",
       "        vertical-align: middle;\n",
       "    }\n",
       "\n",
       "    .dataframe tbody tr th {\n",
       "        vertical-align: top;\n",
       "    }\n",
       "\n",
       "    .dataframe thead th {\n",
       "        text-align: right;\n",
       "    }\n",
       "</style>\n",
       "<table border=\"1\" class=\"dataframe\">\n",
       "  <thead>\n",
       "    <tr style=\"text-align: right;\">\n",
       "      <th></th>\n",
       "      <th>id</th>\n",
       "      <th>season</th>\n",
       "      <th>city</th>\n",
       "      <th>date</th>\n",
       "      <th>team1</th>\n",
       "      <th>team2</th>\n",
       "      <th>toss_winner</th>\n",
       "      <th>toss_decision</th>\n",
       "      <th>result</th>\n",
       "      <th>dl_applied</th>\n",
       "      <th>winner</th>\n",
       "      <th>win_by_runs</th>\n",
       "      <th>win_by_wickets</th>\n",
       "      <th>player_of_match</th>\n",
       "      <th>venue</th>\n",
       "      <th>umpire1</th>\n",
       "      <th>umpire2</th>\n",
       "      <th>umpire3</th>\n",
       "    </tr>\n",
       "  </thead>\n",
       "  <tbody>\n",
       "    <tr>\n",
       "      <th>0</th>\n",
       "      <td>1</td>\n",
       "      <td>2017</td>\n",
       "      <td>Hyderabad</td>\n",
       "      <td>2017-04-05</td>\n",
       "      <td>Sunrisers Hyderabad</td>\n",
       "      <td>Royal Challengers Bangalore</td>\n",
       "      <td>Royal Challengers Bangalore</td>\n",
       "      <td>field</td>\n",
       "      <td>normal</td>\n",
       "      <td>0</td>\n",
       "      <td>Sunrisers Hyderabad</td>\n",
       "      <td>35</td>\n",
       "      <td>0</td>\n",
       "      <td>Yuvraj Singh</td>\n",
       "      <td>Rajiv Gandhi International Stadium, Uppal</td>\n",
       "      <td>AY Dandekar</td>\n",
       "      <td>NJ Llong</td>\n",
       "      <td>NaN</td>\n",
       "    </tr>\n",
       "    <tr>\n",
       "      <th>1</th>\n",
       "      <td>2</td>\n",
       "      <td>2017</td>\n",
       "      <td>Pune</td>\n",
       "      <td>2017-04-06</td>\n",
       "      <td>Mumbai Indians</td>\n",
       "      <td>Rising Pune Supergiant</td>\n",
       "      <td>Rising Pune Supergiant</td>\n",
       "      <td>field</td>\n",
       "      <td>normal</td>\n",
       "      <td>0</td>\n",
       "      <td>Rising Pune Supergiant</td>\n",
       "      <td>0</td>\n",
       "      <td>7</td>\n",
       "      <td>SPD Smith</td>\n",
       "      <td>Maharashtra Cricket Association Stadium</td>\n",
       "      <td>A Nand Kishore</td>\n",
       "      <td>S Ravi</td>\n",
       "      <td>NaN</td>\n",
       "    </tr>\n",
       "  </tbody>\n",
       "</table>\n",
       "</div>"
      ],
      "text/plain": [
       "   id  season       city        date                team1  \\\n",
       "0   1    2017  Hyderabad  2017-04-05  Sunrisers Hyderabad   \n",
       "1   2    2017       Pune  2017-04-06       Mumbai Indians   \n",
       "\n",
       "                         team2                  toss_winner toss_decision  \\\n",
       "0  Royal Challengers Bangalore  Royal Challengers Bangalore         field   \n",
       "1       Rising Pune Supergiant       Rising Pune Supergiant         field   \n",
       "\n",
       "   result  dl_applied                  winner  win_by_runs  win_by_wickets  \\\n",
       "0  normal           0     Sunrisers Hyderabad           35               0   \n",
       "1  normal           0  Rising Pune Supergiant            0               7   \n",
       "\n",
       "  player_of_match                                      venue         umpire1  \\\n",
       "0    Yuvraj Singh  Rajiv Gandhi International Stadium, Uppal     AY Dandekar   \n",
       "1       SPD Smith    Maharashtra Cricket Association Stadium  A Nand Kishore   \n",
       "\n",
       "    umpire2 umpire3  \n",
       "0  NJ Llong     NaN  \n",
       "1    S Ravi     NaN  "
      ]
     },
     "execution_count": 5,
     "metadata": {},
     "output_type": "execute_result"
    }
   ],
   "source": [
    "match.head(2)"
   ]
  },
  {
   "cell_type": "code",
   "execution_count": 6,
   "id": "egyptian-experiment",
   "metadata": {},
   "outputs": [
    {
     "data": {
      "text/plain": [
       "(756, 18)"
      ]
     },
     "execution_count": 6,
     "metadata": {},
     "output_type": "execute_result"
    }
   ],
   "source": [
    "match.shape"
   ]
  },
  {
   "cell_type": "code",
   "execution_count": 7,
   "id": "focused-court",
   "metadata": {},
   "outputs": [
    {
     "data": {
      "text/html": [
       "<div>\n",
       "<style scoped>\n",
       "    .dataframe tbody tr th:only-of-type {\n",
       "        vertical-align: middle;\n",
       "    }\n",
       "\n",
       "    .dataframe tbody tr th {\n",
       "        vertical-align: top;\n",
       "    }\n",
       "\n",
       "    .dataframe thead th {\n",
       "        text-align: right;\n",
       "    }\n",
       "</style>\n",
       "<table border=\"1\" class=\"dataframe\">\n",
       "  <thead>\n",
       "    <tr style=\"text-align: right;\">\n",
       "      <th></th>\n",
       "      <th>id</th>\n",
       "      <th>season</th>\n",
       "      <th>city</th>\n",
       "      <th>date</th>\n",
       "      <th>team1</th>\n",
       "      <th>team2</th>\n",
       "      <th>toss_winner</th>\n",
       "      <th>toss_decision</th>\n",
       "      <th>result</th>\n",
       "      <th>dl_applied</th>\n",
       "      <th>winner</th>\n",
       "      <th>win_by_runs</th>\n",
       "      <th>win_by_wickets</th>\n",
       "      <th>player_of_match</th>\n",
       "      <th>venue</th>\n",
       "      <th>umpire1</th>\n",
       "      <th>umpire2</th>\n",
       "      <th>umpire3</th>\n",
       "    </tr>\n",
       "  </thead>\n",
       "  <tbody>\n",
       "    <tr>\n",
       "      <th>754</th>\n",
       "      <td>11414</td>\n",
       "      <td>2019</td>\n",
       "      <td>Visakhapatnam</td>\n",
       "      <td>10/05/19</td>\n",
       "      <td>Delhi Capitals</td>\n",
       "      <td>Chennai Super Kings</td>\n",
       "      <td>Chennai Super Kings</td>\n",
       "      <td>field</td>\n",
       "      <td>normal</td>\n",
       "      <td>0</td>\n",
       "      <td>Chennai Super Kings</td>\n",
       "      <td>0</td>\n",
       "      <td>6</td>\n",
       "      <td>F du Plessis</td>\n",
       "      <td>ACA-VDCA Stadium</td>\n",
       "      <td>Sundaram Ravi</td>\n",
       "      <td>Bruce Oxenford</td>\n",
       "      <td>Chettithody Shamshuddin</td>\n",
       "    </tr>\n",
       "    <tr>\n",
       "      <th>755</th>\n",
       "      <td>11415</td>\n",
       "      <td>2019</td>\n",
       "      <td>Hyderabad</td>\n",
       "      <td>12/05/19</td>\n",
       "      <td>Mumbai Indians</td>\n",
       "      <td>Chennai Super Kings</td>\n",
       "      <td>Mumbai Indians</td>\n",
       "      <td>bat</td>\n",
       "      <td>normal</td>\n",
       "      <td>0</td>\n",
       "      <td>Mumbai Indians</td>\n",
       "      <td>1</td>\n",
       "      <td>0</td>\n",
       "      <td>JJ Bumrah</td>\n",
       "      <td>Rajiv Gandhi Intl. Cricket Stadium</td>\n",
       "      <td>Nitin Menon</td>\n",
       "      <td>Ian Gould</td>\n",
       "      <td>Nigel Llong</td>\n",
       "    </tr>\n",
       "  </tbody>\n",
       "</table>\n",
       "</div>"
      ],
      "text/plain": [
       "        id  season           city      date           team1  \\\n",
       "754  11414    2019  Visakhapatnam  10/05/19  Delhi Capitals   \n",
       "755  11415    2019      Hyderabad  12/05/19  Mumbai Indians   \n",
       "\n",
       "                   team2          toss_winner toss_decision  result  \\\n",
       "754  Chennai Super Kings  Chennai Super Kings         field  normal   \n",
       "755  Chennai Super Kings       Mumbai Indians           bat  normal   \n",
       "\n",
       "     dl_applied               winner  win_by_runs  win_by_wickets  \\\n",
       "754           0  Chennai Super Kings            0               6   \n",
       "755           0       Mumbai Indians            1               0   \n",
       "\n",
       "    player_of_match                               venue        umpire1  \\\n",
       "754    F du Plessis                    ACA-VDCA Stadium  Sundaram Ravi   \n",
       "755       JJ Bumrah  Rajiv Gandhi Intl. Cricket Stadium    Nitin Menon   \n",
       "\n",
       "            umpire2                  umpire3  \n",
       "754  Bruce Oxenford  Chettithody Shamshuddin  \n",
       "755       Ian Gould              Nigel Llong  "
      ]
     },
     "execution_count": 7,
     "metadata": {},
     "output_type": "execute_result"
    }
   ],
   "source": [
    "match.tail(2)"
   ]
  },
  {
   "cell_type": "code",
   "execution_count": 8,
   "id": "patent-facial",
   "metadata": {},
   "outputs": [],
   "source": [
    "#converting dates into proper format\n",
    "match['date'] = pd.to_datetime(match['date'])"
   ]
  },
  {
   "cell_type": "code",
   "execution_count": 9,
   "id": "suspected-mechanics",
   "metadata": {},
   "outputs": [
    {
     "data": {
      "text/plain": [
       "2013    76\n",
       "2012    74\n",
       "2011    73\n",
       "2010    60\n",
       "2014    60\n",
       "2016    60\n",
       "2018    60\n",
       "2019    60\n",
       "2015    59\n",
       "2017    59\n",
       "2008    58\n",
       "2009    57\n",
       "Name: season, dtype: int64"
      ]
     },
     "execution_count": 9,
     "metadata": {},
     "output_type": "execute_result"
    }
   ],
   "source": [
    "match['season'].value_counts()"
   ]
  },
  {
   "cell_type": "markdown",
   "id": "recent-protection",
   "metadata": {},
   "source": [
    "There are data from the season 2008 to 2019"
   ]
  },
  {
   "cell_type": "code",
   "execution_count": 10,
   "id": "basic-bernard",
   "metadata": {},
   "outputs": [
    {
     "data": {
      "text/plain": [
       "array(['Sunrisers Hyderabad', 'Mumbai Indians', 'Gujarat Lions',\n",
       "       'Rising Pune Supergiant', 'Royal Challengers Bangalore',\n",
       "       'Kolkata Knight Riders', 'Delhi Daredevils', 'Kings XI Punjab',\n",
       "       'Chennai Super Kings', 'Rajasthan Royals', 'Deccan Chargers',\n",
       "       'Kochi Tuskers Kerala', 'Pune Warriors', 'Rising Pune Supergiants',\n",
       "       'Delhi Capitals'], dtype=object)"
      ]
     },
     "execution_count": 10,
     "metadata": {},
     "output_type": "execute_result"
    }
   ],
   "source": [
    "match['team1'].unique()"
   ]
  },
  {
   "cell_type": "markdown",
   "id": "animal-calgary",
   "metadata": {},
   "source": [
    "#### Renaming the Team's name to their short-form"
   ]
  },
  {
   "cell_type": "code",
   "execution_count": 11,
   "id": "center-burke",
   "metadata": {},
   "outputs": [],
   "source": [
    "match.replace(['Sunrisers Hyderabad', 'Mumbai Indians', 'Gujarat Lions',\n",
    "'Rising Pune Supergiant', 'Royal Challengers Bangalore',\n",
    "'Kolkata Knight Riders', 'Delhi Daredevils', 'Kings XI Punjab',\n",
    "'Chennai Super Kings', 'Rajasthan Royals', 'Deccan Chargers',\n",
    "'Kochi Tuskers Kerala', 'Pune Warriors', 'Rising Pune Supergiants',\n",
    "'Delhi Capitals'],\n",
    "              ['SRH', 'MI', 'GL', 'RSP', 'RCB', 'KKR','DC', 'KXIP', 'CSK', 'RR', 'DEC', 'KTK', 'PW', 'RSP', 'DC'], \n",
    "              inplace=True)"
   ]
  },
  {
   "cell_type": "code",
   "execution_count": 12,
   "id": "relative-julian",
   "metadata": {},
   "outputs": [],
   "source": [
    "delivery.replace(['Sunrisers Hyderabad', 'Mumbai Indians', 'Gujarat Lions',\n",
    "'Rising Pune Supergiant', 'Royal Challengers Bangalore',\n",
    "'Kolkata Knight Riders', 'Delhi Daredevils', 'Kings XI Punjab',\n",
    "'Chennai Super Kings', 'Rajasthan Royals', 'Deccan Chargers',\n",
    "'Kochi Tuskers Kerala', 'Pune Warriors', 'Rising Pune Supergiants',\n",
    "'Delhi Capitals'],\n",
    "              ['SRH', 'MI', 'GL', 'RSP', 'RCB', 'KKR','DC', 'KXIP', 'CSK', 'RR', 'DEC', 'KTK', 'PW', 'RSP', 'DC'], \n",
    "              inplace=True)"
   ]
  },
  {
   "cell_type": "code",
   "execution_count": 13,
   "id": "placed-doubt",
   "metadata": {},
   "outputs": [
    {
     "data": {
      "text/plain": [
       "Index(['match_id', 'inning', 'batting_team', 'bowling_team', 'over', 'ball',\n",
       "       'batsman', 'non_striker', 'bowler', 'is_super_over', 'wide_runs',\n",
       "       'bye_runs', 'legbye_runs', 'noball_runs', 'penalty_runs',\n",
       "       'batsman_runs', 'extra_runs', 'total_runs', 'player_dismissed',\n",
       "       'dismissal_kind', 'fielder'],\n",
       "      dtype='object')"
      ]
     },
     "execution_count": 13,
     "metadata": {},
     "output_type": "execute_result"
    }
   ],
   "source": [
    "delivery.columns"
   ]
  },
  {
   "cell_type": "markdown",
   "id": "adolescent-eagle",
   "metadata": {},
   "source": [
    "#### Checking Null values and features"
   ]
  },
  {
   "cell_type": "code",
   "execution_count": 14,
   "id": "contrary-pleasure",
   "metadata": {},
   "outputs": [
    {
     "data": {
      "text/plain": [
       "match_id                 0\n",
       "inning                   0\n",
       "batting_team             0\n",
       "bowling_team             0\n",
       "over                     0\n",
       "ball                     0\n",
       "batsman                  0\n",
       "non_striker              0\n",
       "bowler                   0\n",
       "is_super_over            0\n",
       "wide_runs                0\n",
       "bye_runs                 0\n",
       "legbye_runs              0\n",
       "noball_runs              0\n",
       "penalty_runs             0\n",
       "batsman_runs             0\n",
       "extra_runs               0\n",
       "total_runs               0\n",
       "player_dismissed    170244\n",
       "dismissal_kind      170244\n",
       "fielder             172630\n",
       "dtype: int64"
      ]
     },
     "execution_count": 14,
     "metadata": {},
     "output_type": "execute_result"
    }
   ],
   "source": [
    "delivery.isnull().sum()"
   ]
  },
  {
   "cell_type": "code",
   "execution_count": 15,
   "id": "catholic-anxiety",
   "metadata": {},
   "outputs": [
    {
     "data": {
      "text/plain": [
       "id                   0\n",
       "season               0\n",
       "city                 7\n",
       "date                 0\n",
       "team1                0\n",
       "team2                0\n",
       "toss_winner          0\n",
       "toss_decision        0\n",
       "result               0\n",
       "dl_applied           0\n",
       "winner               4\n",
       "win_by_runs          0\n",
       "win_by_wickets       0\n",
       "player_of_match      4\n",
       "venue                0\n",
       "umpire1              2\n",
       "umpire2              2\n",
       "umpire3            637\n",
       "dtype: int64"
      ]
     },
     "execution_count": 15,
     "metadata": {},
     "output_type": "execute_result"
    }
   ],
   "source": [
    "match.isnull().sum()"
   ]
  },
  {
   "cell_type": "markdown",
   "id": "several-gnome",
   "metadata": {},
   "source": [
    "### Dropping umpire3 columns as the null values are more than 90%\n",
    "### Also filling the NaN values with 0 in delivery dataset"
   ]
  },
  {
   "cell_type": "code",
   "execution_count": 16,
   "id": "satisfactory-status",
   "metadata": {},
   "outputs": [],
   "source": [
    "match.drop(columns='umpire3', axis=1, inplace=True)\n",
    "\n",
    "delivery.fillna(0, inplace=True)"
   ]
  },
  {
   "cell_type": "code",
   "execution_count": 17,
   "id": "soviet-latitude",
   "metadata": {},
   "outputs": [
    {
     "name": "stdout",
     "output_type": "stream",
     "text": [
      "Total Matches Played: 756\n",
      "\n",
      "\n",
      "\n",
      "All the cities where the matches were played are: ['Hyderabad' 'Pune' 'Rajkot' 'Indore' 'Bangalore' 'Mumbai' 'Kolkata'\n",
      " 'Delhi' 'Chandigarh' 'Kanpur' 'Jaipur' 'Chennai' 'Cape Town'\n",
      " 'Port Elizabeth' 'Durban' 'Centurion' 'East London' 'Johannesburg'\n",
      " 'Kimberley' 'Bloemfontein' 'Ahmedabad' 'Cuttack' 'Nagpur' 'Dharamsala'\n",
      " 'Kochi' 'Visakhapatnam' 'Raipur' 'Ranchi' 'Abu Dhabi' 'Sharjah' nan\n",
      " 'Mohali' 'Bengaluru']\n"
     ]
    }
   ],
   "source": [
    "### Total matches played\n",
    "print('Total Matches Played: {}'.format(match.shape[0]))\n",
    "print('\\n\\n')\n",
    "\n",
    "### Different venues where matches were played\n",
    "print('All the cities where the matches were played are: {}'.format(match['city'].unique()))"
   ]
  },
  {
   "cell_type": "markdown",
   "id": "infinite-immigration",
   "metadata": {},
   "source": [
    "#### Some basic analysis"
   ]
  },
  {
   "cell_type": "code",
   "execution_count": 18,
   "id": "dietary-october",
   "metadata": {},
   "outputs": [
    {
     "name": "stdout",
     "output_type": "stream",
     "text": [
      "CH Gayle has most number of man of the match award\n"
     ]
    }
   ],
   "source": [
    "print(match['player_of_match'].value_counts().idxmax(), 'has most number of man of the match award')"
   ]
  },
  {
   "cell_type": "code",
   "execution_count": 19,
   "id": "entitled-galaxy",
   "metadata": {},
   "outputs": [
    {
     "name": "stdout",
     "output_type": "stream",
     "text": [
      "MI has most number of match wins.\n"
     ]
    }
   ],
   "source": [
    "print(match['winner'].value_counts().idxmax(), 'has most number of match wins.')"
   ]
  },
  {
   "cell_type": "code",
   "execution_count": 20,
   "id": "wound-seller",
   "metadata": {},
   "outputs": [
    {
     "data": {
      "text/html": [
       "<div>\n",
       "<style scoped>\n",
       "    .dataframe tbody tr th:only-of-type {\n",
       "        vertical-align: middle;\n",
       "    }\n",
       "\n",
       "    .dataframe tbody tr th {\n",
       "        vertical-align: top;\n",
       "    }\n",
       "\n",
       "    .dataframe thead th {\n",
       "        text-align: right;\n",
       "    }\n",
       "</style>\n",
       "<table border=\"1\" class=\"dataframe\">\n",
       "  <thead>\n",
       "    <tr style=\"text-align: right;\">\n",
       "      <th></th>\n",
       "      <th>Season</th>\n",
       "      <th>Number of Teams</th>\n",
       "    </tr>\n",
       "  </thead>\n",
       "  <tbody>\n",
       "    <tr>\n",
       "      <th>3</th>\n",
       "      <td>2011</td>\n",
       "      <td>10</td>\n",
       "    </tr>\n",
       "    <tr>\n",
       "      <th>4</th>\n",
       "      <td>2012</td>\n",
       "      <td>9</td>\n",
       "    </tr>\n",
       "    <tr>\n",
       "      <th>5</th>\n",
       "      <td>2013</td>\n",
       "      <td>9</td>\n",
       "    </tr>\n",
       "    <tr>\n",
       "      <th>0</th>\n",
       "      <td>2008</td>\n",
       "      <td>8</td>\n",
       "    </tr>\n",
       "    <tr>\n",
       "      <th>1</th>\n",
       "      <td>2009</td>\n",
       "      <td>8</td>\n",
       "    </tr>\n",
       "    <tr>\n",
       "      <th>2</th>\n",
       "      <td>2010</td>\n",
       "      <td>8</td>\n",
       "    </tr>\n",
       "    <tr>\n",
       "      <th>6</th>\n",
       "      <td>2014</td>\n",
       "      <td>8</td>\n",
       "    </tr>\n",
       "    <tr>\n",
       "      <th>7</th>\n",
       "      <td>2015</td>\n",
       "      <td>8</td>\n",
       "    </tr>\n",
       "    <tr>\n",
       "      <th>8</th>\n",
       "      <td>2016</td>\n",
       "      <td>8</td>\n",
       "    </tr>\n",
       "    <tr>\n",
       "      <th>9</th>\n",
       "      <td>2017</td>\n",
       "      <td>8</td>\n",
       "    </tr>\n",
       "    <tr>\n",
       "      <th>10</th>\n",
       "      <td>2018</td>\n",
       "      <td>8</td>\n",
       "    </tr>\n",
       "    <tr>\n",
       "      <th>11</th>\n",
       "      <td>2019</td>\n",
       "      <td>8</td>\n",
       "    </tr>\n",
       "  </tbody>\n",
       "</table>\n",
       "</div>"
      ],
      "text/plain": [
       "    Season  Number of Teams\n",
       "3     2011               10\n",
       "4     2012                9\n",
       "5     2013                9\n",
       "0     2008                8\n",
       "1     2009                8\n",
       "2     2010                8\n",
       "6     2014                8\n",
       "7     2015                8\n",
       "8     2016                8\n",
       "9     2017                8\n",
       "10    2018                8\n",
       "11    2019                8"
      ]
     },
     "execution_count": 20,
     "metadata": {},
     "output_type": "execute_result"
    }
   ],
   "source": [
    "num_of_teams = match.groupby('season')['team1'].nunique().reset_index().sort_values('team1',ascending=False)\n",
    "num_of_teams.columns = ['Season', 'Number of Teams']\n",
    "num_of_teams"
   ]
  },
  {
   "cell_type": "markdown",
   "id": "changing-catch",
   "metadata": {},
   "source": [
    "### IPL consisted of 8 teams in all occasions except season (2011-13) where there were 9/10 teams."
   ]
  },
  {
   "cell_type": "markdown",
   "id": "demanding-billion",
   "metadata": {},
   "source": [
    "## Toss Decisions "
   ]
  },
  {
   "cell_type": "code",
   "execution_count": 21,
   "id": "blocked-composite",
   "metadata": {},
   "outputs": [
    {
     "name": "stdout",
     "output_type": "stream",
     "text": [
      "Most toss wins in %\n",
      " field    61.243386\n",
      "bat      38.756614\n",
      "Name: toss_decision, dtype: float64\n"
     ]
    }
   ],
   "source": [
    "print('Most toss wins in %\\n',((match['toss_decision']).value_counts()/756*100))"
   ]
  },
  {
   "cell_type": "markdown",
   "id": "alleged-french",
   "metadata": {},
   "source": [
    "### Toss Decision on Each Season"
   ]
  },
  {
   "cell_type": "code",
   "execution_count": 22,
   "id": "indirect-model",
   "metadata": {},
   "outputs": [
    {
     "data": {
      "text/plain": [
       "<AxesSubplot:xlabel='season', ylabel='count'>"
      ]
     },
     "execution_count": 22,
     "metadata": {},
     "output_type": "execute_result"
    },
    {
     "data": {
      "image/png": "[encoded data removed]",
      "text/plain": [
       "<Figure size 432x288 with 1 Axes>"
      ]
     },
     "metadata": {},
     "output_type": "display_data"
    }
   ],
   "source": [
    "plt.style.use('ggplot')\n",
    "sns.countplot(x='season',hue='toss_decision',data=match)"
   ]
  },
  {
   "cell_type": "markdown",
   "id": "composite-recruitment",
   "metadata": {},
   "source": [
    "### Teams who won most tosses"
   ]
  },
  {
   "cell_type": "code",
   "execution_count": null,
   "id": "comprehensive-glenn",
   "metadata": {},
   "outputs": [],
   "source": []
  },
  {
   "cell_type": "code",
   "execution_count": 23,
   "id": "understanding-bridges",
   "metadata": {},
   "outputs": [
    {
     "data": {
      "image/png": "[encoded data removed]",
      "text/plain": [
       "<Figure size 432x288 with 1 Axes>"
      ]
     },
     "metadata": {},
     "output_type": "display_data"
    }
   ],
   "source": [
    "###maximum toss winners:\n",
    "ax = match['toss_winner'].value_counts().plot.bar(width=0.8)\n",
    "\n",
    "for fig in ax.patches:\n",
    "    ax.annotate(format(fig.get_height()), (fig.get_x()+0.15, fig.get_height()+1))\n",
    "    \n",
    "plt.show()"
   ]
  },
  {
   "cell_type": "markdown",
   "id": "finished-literacy",
   "metadata": {},
   "source": [
    "### Toss Winner == Match winner?"
   ]
  },
  {
   "cell_type": "code",
   "execution_count": 24,
   "id": "provincial-bhutan",
   "metadata": {},
   "outputs": [
    {
     "data": {
      "image/png": "[encoded data removed]",
      "text/plain": [
       "<Figure size 504x504 with 1 Axes>"
      ]
     },
     "metadata": {},
     "output_type": "display_data"
    }
   ],
   "source": [
    "### toss winner also match winner??\n",
    "df = match[match['toss_winner']==match['winner']]\n",
    "\n",
    "slices = [len(df),756-len(df)]\n",
    "labels = ['Yes', 'No']\n",
    "\n",
    "plt.pie(slices, labels=labels, shadow=True, startangle=90, explode=(0,0), autopct= '%.1f%%')\n",
    "fig = plt.gcf()\n",
    "fig.set_size_inches(7,7)\n",
    "plt.show()"
   ]
  },
  {
   "cell_type": "code",
   "execution_count": 25,
   "id": "higher-bibliography",
   "metadata": {},
   "outputs": [
    {
     "data": {
      "text/plain": [
       "<AxesSubplot:xlabel='season', ylabel='count'>"
      ]
     },
     "execution_count": 25,
     "metadata": {},
     "output_type": "execute_result"
    },
    {
     "data": {
      "image/png": "[encoded data removed]",
      "text/plain": [
       "<Figure size 864x504 with 1 Axes>"
      ]
     },
     "metadata": {},
     "output_type": "display_data"
    }
   ],
   "source": [
    "## matches played across each season\n",
    "plt.figure(figsize=(12,7))\n",
    "plt.style.use('fivethirtyeight')\n",
    "sns.countplot(x='season', data=match, palette='flag')"
   ]
  },
  {
   "cell_type": "markdown",
   "id": "vietnamese-arctic",
   "metadata": {},
   "source": [
    "### All the matches that were played in a season were almost equal. Except in 2011-13, there were many matches played, due to more teams participating."
   ]
  },
  {
   "cell_type": "markdown",
   "id": "ordinary-bottom",
   "metadata": {},
   "source": [
    "### Runs scored in a season"
   ]
  },
  {
   "cell_type": "code",
   "execution_count": 26,
   "id": "loving-irish",
   "metadata": {},
   "outputs": [],
   "source": [
    "batsmen = match[['id','season']].merge(delivery, left_on = 'id', right_on = 'match_id',\n",
    "                                    how='left').drop('id', axis=1)\n",
    "# batsmen"
   ]
  },
  {
   "cell_type": "code",
   "execution_count": 27,
   "id": "racial-champagne",
   "metadata": {},
   "outputs": [
    {
     "data": {
      "text/plain": [
       "<AxesSubplot:xlabel='season'>"
      ]
     },
     "execution_count": 27,
     "metadata": {},
     "output_type": "execute_result"
    },
    {
     "data": {
      "image/png": "[encoded data removed]",
      "text/plain": [
       "<Figure size 432x288 with 1 Axes>"
      ]
     },
     "metadata": {},
     "output_type": "display_data"
    }
   ],
   "source": [
    "season = batsmen.groupby('season')['total_runs'].sum()\n",
    "\n",
    "season.plot()"
   ]
  },
  {
   "cell_type": "markdown",
   "id": "iraqi-navigator",
   "metadata": {},
   "source": [
    "### Many runs were scored in the season 2011-13. It is because the teams that played in IPL were more compartively."
   ]
  },
  {
   "cell_type": "code",
   "execution_count": 28,
   "id": "existing-storm",
   "metadata": {},
   "outputs": [
    {
     "data": {
      "image/png": "[encoded data removed]",
      "text/plain": [
       "<Figure size 432x288 with 1 Axes>"
      ]
     },
     "metadata": {},
     "output_type": "display_data"
    }
   ],
   "source": [
    "# maximum man of matches\n",
    "ax = match['player_of_match'].value_counts().head(11).plot.bar(width=0.8, color=['#C0C0C0', '#808080', '#000000', '#808000'])\n",
    "\n",
    "for fig in ax.patches:\n",
    "    ax.annotate(format(fig.get_height()), (fig.get_x()+0.15, fig.get_height()+1))\n",
    "plt.show()"
   ]
  },
  {
   "cell_type": "markdown",
   "id": "contained-ranking",
   "metadata": {},
   "source": [
    "###### Chris Gayle has won most man of the match awards followed by ABD."
   ]
  },
  {
   "cell_type": "markdown",
   "id": "celtic-facing",
   "metadata": {},
   "source": [
    "### Winners in Each Season"
   ]
  },
  {
   "cell_type": "code",
   "execution_count": 29,
   "id": "nervous-assembly",
   "metadata": {},
   "outputs": [
    {
     "name": "stdout",
     "output_type": "stream",
     "text": [
      "season    2008\n",
      "winner      RR\n",
      "Name: 116, dtype: object\n",
      "season    2009\n",
      "winner     DEC\n",
      "Name: 173, dtype: object\n",
      "season    2010\n",
      "winner     CSK\n",
      "Name: 233, dtype: object\n",
      "season    2011\n",
      "winner     CSK\n",
      "Name: 306, dtype: object\n",
      "season    2012\n",
      "winner     KKR\n",
      "Name: 380, dtype: object\n",
      "season    2013\n",
      "winner      MI\n",
      "Name: 456, dtype: object\n",
      "season    2014\n",
      "winner     KKR\n",
      "Name: 516, dtype: object\n",
      "season    2015\n",
      "winner      MI\n",
      "Name: 575, dtype: object\n",
      "season    2016\n",
      "winner     SRH\n",
      "Name: 635, dtype: object\n",
      "season    2017\n",
      "winner      MI\n",
      "Name: 58, dtype: object\n",
      "season    2018\n",
      "winner     CSK\n",
      "Name: 695, dtype: object\n",
      "season    2019\n",
      "winner      MI\n",
      "Name: 755, dtype: object\n"
     ]
    }
   ],
   "source": [
    "\n",
    "## getting the last match of each season and their winner\n",
    "for i in range(2008,2020):\n",
    "    df = ((match[match['season']==i]).iloc[-1])\n",
    "    print(df[[1,10]])"
   ]
  },
  {
   "cell_type": "code",
   "execution_count": null,
   "id": "synthetic-customs",
   "metadata": {},
   "outputs": [],
   "source": []
  },
  {
   "cell_type": "code",
   "execution_count": 30,
   "id": "caroline-boutique",
   "metadata": {},
   "outputs": [
    {
     "data": {
      "image/png": "[encoded data removed]",
      "text/plain": [
       "<Figure size 432x288 with 1 Axes>"
      ]
     },
     "metadata": {},
     "output_type": "display_data"
    }
   ],
   "source": [
    "## matches won by each team\n",
    "\n",
    "# ax = match['winner'].value_counts().plot.bar(width=0.8, color=['#C2E2E2'])\n",
    "ay = sns.countplot(x='winner', data=match)\n",
    "for fig in ay.patches:\n",
    "    ay.annotate(format(fig.get_height()), (fig.get_x()+0.15, fig.get_height()+1))\n",
    "                \n",
    "plt.show()"
   ]
  },
  {
   "cell_type": "markdown",
   "id": "spoken-arthur",
   "metadata": {},
   "source": [
    "### MI leads the most match wins in IPL History."
   ]
  },
  {
   "cell_type": "markdown",
   "id": "satisfactory-northern",
   "metadata": {},
   "source": [
    "## Looking at the dominance of MI against two big teams"
   ]
  },
  {
   "cell_type": "code",
   "execution_count": 31,
   "id": "legal-utility",
   "metadata": {},
   "outputs": [
    {
     "data": {
      "text/plain": [
       "<AxesSubplot:xlabel='season', ylabel='count'>"
      ]
     },
     "execution_count": 31,
     "metadata": {},
     "output_type": "execute_result"
    },
    {
     "data": {
      "image/png": "[encoded data removed]",
      "text/plain": [
       "<Figure size 576x360 with 1 Axes>"
      ]
     },
     "metadata": {},
     "output_type": "display_data"
    }
   ],
   "source": [
    "### team 1 vs team 2 \n",
    "\n",
    "mi_vs_kkr = match[((match['team1']=='MI') | (match['team2']=='MI')) & \n",
    "            ((match['team1']=='KKR') | (match['team2']=='KKR'))] \n",
    "plt.figure(figsize=(8,5))\n",
    "sns.countplot(x='season', hue='winner', data= mi_vs_kkr)"
   ]
  },
  {
   "cell_type": "markdown",
   "id": "metric-muscle",
   "metadata": {},
   "source": [
    "### MI and KKR have faced each other two times in each season except in 2017, where they also met in playoff round. MI look dominating having won 19 times againts KKR 6 wins."
   ]
  },
  {
   "cell_type": "code",
   "execution_count": 32,
   "id": "healthy-windows",
   "metadata": {},
   "outputs": [],
   "source": [
    "mi_vs_csk = match[((match['team1']=='MI') | (match['team2']=='MI')) &\n",
    "                  ((match['team1']=='CSK') | (match['team2']=='CSK'))\n",
    "                 ]"
   ]
  },
  {
   "cell_type": "code",
   "execution_count": 33,
   "id": "standard-bryan",
   "metadata": {},
   "outputs": [
    {
     "data": {
      "text/plain": [
       "<AxesSubplot:xlabel='season', ylabel='count'>"
      ]
     },
     "execution_count": 33,
     "metadata": {},
     "output_type": "execute_result"
    },
    {
     "data": {
      "image/png": "[encoded data removed]",
      "text/plain": [
       "<Figure size 576x360 with 1 Axes>"
      ]
     },
     "metadata": {},
     "output_type": "display_data"
    }
   ],
   "source": [
    "plt.figure(figsize=(8,5))\n",
    "sns.countplot(x='season', hue='winner', data=mi_vs_csk)"
   ]
  },
  {
   "cell_type": "markdown",
   "id": "sustained-cooking",
   "metadata": {},
   "source": [
    "### MI and CSK have met at 27 occasions; Their Head to head record stands at: - MI-16: CSK-11.\n",
    "### You can bet on entertainment factor when these giants teams collides."
   ]
  },
  {
   "cell_type": "code",
   "execution_count": 34,
   "id": "manufactured-movement",
   "metadata": {},
   "outputs": [
    {
     "data": {
      "image/png": "[encoded data removed]",
      "text/plain": [
       "<Figure size 432x288 with 1 Axes>"
      ]
     },
     "metadata": {},
     "output_type": "display_data"
    }
   ],
   "source": [
    "# batsmen who scored most runs in the ipl\n",
    "ora = delivery.groupby('batsman')['total_runs'].sum().reset_index().sort_values(by='total_runs', ascending=False)\n",
    "ora\n",
    "# ax = ora.head(11).plot.bar(width=0.8, color=['#C2E2E2'])\n",
    "# ax.set_xlabel(batsman)\n",
    "ax = ora.set_index('batsman')['total_runs'].nlargest(11).plot.bar(width=0.99, color=['#C2E2E2', '#FFFFFF', '#808080'])\n",
    "\n",
    "for fig in ax.patches:\n",
    "    ax.annotate(format(fig.get_height()), (fig.get_x()+0.0, fig.get_height()+1.5))"
   ]
  },
  {
   "cell_type": "markdown",
   "id": "familiar-flesh",
   "metadata": {},
   "source": [
    "### Suresh Raina has most runs in IPL history followed by Virat Kohli and Rohit Sharma.\n",
    "### There are a total of 8 players in top 11, Which shows the dominance of Indian batsman in the League."
   ]
  },
  {
   "cell_type": "code",
   "execution_count": 35,
   "id": "proprietary-railway",
   "metadata": {},
   "outputs": [
    {
     "data": {
      "text/html": [
       "<div>\n",
       "<style scoped>\n",
       "    .dataframe tbody tr th:only-of-type {\n",
       "        vertical-align: middle;\n",
       "    }\n",
       "\n",
       "    .dataframe tbody tr th {\n",
       "        vertical-align: top;\n",
       "    }\n",
       "\n",
       "    .dataframe thead th {\n",
       "        text-align: right;\n",
       "    }\n",
       "</style>\n",
       "<table border=\"1\" class=\"dataframe\">\n",
       "  <thead>\n",
       "    <tr style=\"text-align: right;\">\n",
       "      <th></th>\n",
       "      <th>batsman</th>\n",
       "      <th>total_runs</th>\n",
       "    </tr>\n",
       "  </thead>\n",
       "  <tbody>\n",
       "    <tr>\n",
       "      <th>428</th>\n",
       "      <td>SK Raina</td>\n",
       "      <td>5651</td>\n",
       "    </tr>\n",
       "    <tr>\n",
       "      <th>486</th>\n",
       "      <td>V Kohli</td>\n",
       "      <td>5616</td>\n",
       "    </tr>\n",
       "    <tr>\n",
       "      <th>367</th>\n",
       "      <td>RG Sharma</td>\n",
       "      <td>5057</td>\n",
       "    </tr>\n",
       "    <tr>\n",
       "      <th>112</th>\n",
       "      <td>DA Warner</td>\n",
       "      <td>4975</td>\n",
       "    </tr>\n",
       "    <tr>\n",
       "      <th>392</th>\n",
       "      <td>S Dhawan</td>\n",
       "      <td>4876</td>\n",
       "    </tr>\n",
       "    <tr>\n",
       "      <th>...</th>\n",
       "      <td>...</td>\n",
       "      <td>...</td>\n",
       "    </tr>\n",
       "    <tr>\n",
       "      <th>182</th>\n",
       "      <td>J Denly</td>\n",
       "      <td>0</td>\n",
       "    </tr>\n",
       "    <tr>\n",
       "      <th>487</th>\n",
       "      <td>V Pratap Singh</td>\n",
       "      <td>0</td>\n",
       "    </tr>\n",
       "    <tr>\n",
       "      <th>55</th>\n",
       "      <td>Abdur Razzak</td>\n",
       "      <td>0</td>\n",
       "    </tr>\n",
       "    <tr>\n",
       "      <th>463</th>\n",
       "      <td>Sunny Gupta</td>\n",
       "      <td>0</td>\n",
       "    </tr>\n",
       "    <tr>\n",
       "      <th>308</th>\n",
       "      <td>ND Doshi</td>\n",
       "      <td>0</td>\n",
       "    </tr>\n",
       "  </tbody>\n",
       "</table>\n",
       "<p>516 rows × 2 columns</p>\n",
       "</div>"
      ],
      "text/plain": [
       "            batsman  total_runs\n",
       "428        SK Raina        5651\n",
       "486         V Kohli        5616\n",
       "367       RG Sharma        5057\n",
       "112       DA Warner        4975\n",
       "392        S Dhawan        4876\n",
       "..              ...         ...\n",
       "182         J Denly           0\n",
       "487  V Pratap Singh           0\n",
       "55     Abdur Razzak           0\n",
       "463     Sunny Gupta           0\n",
       "308        ND Doshi           0\n",
       "\n",
       "[516 rows x 2 columns]"
      ]
     },
     "execution_count": 35,
     "metadata": {},
     "output_type": "execute_result"
    }
   ],
   "source": [
    "oran = match[['id', 'season']].merge((delivery[['match_id', 'batsman', 'total_runs']]), left_on='id', right_on='match_id',\n",
    "                                   how='left').drop('id', axis=1)\n",
    "ora"
   ]
  },
  {
   "cell_type": "code",
   "execution_count": 36,
   "id": "elementary-monkey",
   "metadata": {},
   "outputs": [
    {
     "data": {
      "image/png": "[encoded data removed]",
      "text/plain": [
       "<Figure size 432x288 with 1 Axes>"
      ]
     },
     "metadata": {},
     "output_type": "display_data"
    }
   ],
   "source": [
    "\n",
    "orange = oran.groupby(['season','batsman'])['total_runs'].sum().reset_index().sort_values(by='total_runs', ascending=False).head(33)\n",
    "\n",
    "\n",
    "\n",
    "orange = orange.set_index('batsman')['total_runs'].nlargest(11).plot.bar(width=0.8, color='#C2E2E2')\n",
    "\n",
    "for fig in orange.patches:\n",
    "    orange.annotate(format(fig.get_height()), (fig.get_x()+0.15, fig.get_height()+1))\n",
    "\n",
    "# sns.countplot(x='total_runs', hue='season', data=orange)"
   ]
  },
  {
   "cell_type": "markdown",
   "id": "dynamic-belize",
   "metadata": {},
   "source": [
    "### Virat Kohli has most runs in a season followed by D. Warner."
   ]
  },
  {
   "cell_type": "markdown",
   "id": "little-concrete",
   "metadata": {},
   "source": [
    "### most 200+ scores"
   ]
  },
  {
   "cell_type": "code",
   "execution_count": 37,
   "id": "complex-instrument",
   "metadata": {},
   "outputs": [
    {
     "data": {
      "text/html": [
       "<div>\n",
       "<style scoped>\n",
       "    .dataframe tbody tr th:only-of-type {\n",
       "        vertical-align: middle;\n",
       "    }\n",
       "\n",
       "    .dataframe tbody tr th {\n",
       "        vertical-align: top;\n",
       "    }\n",
       "\n",
       "    .dataframe thead th {\n",
       "        text-align: right;\n",
       "    }\n",
       "</style>\n",
       "<table border=\"1\" class=\"dataframe\">\n",
       "  <thead>\n",
       "    <tr style=\"text-align: right;\">\n",
       "      <th></th>\n",
       "      <th>match_id</th>\n",
       "      <th>inning</th>\n",
       "      <th>batting_team</th>\n",
       "      <th>bowling_team</th>\n",
       "      <th>total_runs</th>\n",
       "    </tr>\n",
       "  </thead>\n",
       "  <tbody>\n",
       "    <tr>\n",
       "      <th>829</th>\n",
       "      <td>411</td>\n",
       "      <td>1</td>\n",
       "      <td>RCB</td>\n",
       "      <td>PW</td>\n",
       "      <td>263</td>\n",
       "    </tr>\n",
       "    <tr>\n",
       "      <th>1370</th>\n",
       "      <td>7937</td>\n",
       "      <td>1</td>\n",
       "      <td>KKR</td>\n",
       "      <td>KXIP</td>\n",
       "      <td>250</td>\n",
       "    </tr>\n",
       "    <tr>\n",
       "      <th>1250</th>\n",
       "      <td>620</td>\n",
       "      <td>1</td>\n",
       "      <td>RCB</td>\n",
       "      <td>GL</td>\n",
       "      <td>248</td>\n",
       "    </tr>\n",
       "    <tr>\n",
       "      <th>416</th>\n",
       "      <td>206</td>\n",
       "      <td>1</td>\n",
       "      <td>CSK</td>\n",
       "      <td>RR</td>\n",
       "      <td>246</td>\n",
       "    </tr>\n",
       "    <tr>\n",
       "      <th>1498</th>\n",
       "      <td>11338</td>\n",
       "      <td>1</td>\n",
       "      <td>KKR</td>\n",
       "      <td>MI</td>\n",
       "      <td>241</td>\n",
       "    </tr>\n",
       "    <tr>\n",
       "      <th>122</th>\n",
       "      <td>61</td>\n",
       "      <td>1</td>\n",
       "      <td>CSK</td>\n",
       "      <td>KXIP</td>\n",
       "      <td>240</td>\n",
       "    </tr>\n",
       "    <tr>\n",
       "      <th>1134</th>\n",
       "      <td>562</td>\n",
       "      <td>1</td>\n",
       "      <td>RCB</td>\n",
       "      <td>MI</td>\n",
       "      <td>235</td>\n",
       "    </tr>\n",
       "    <tr>\n",
       "      <th>1426</th>\n",
       "      <td>11147</td>\n",
       "      <td>1</td>\n",
       "      <td>SRH</td>\n",
       "      <td>RCB</td>\n",
       "      <td>233</td>\n",
       "    </tr>\n",
       "    <tr>\n",
       "      <th>596</th>\n",
       "      <td>296</td>\n",
       "      <td>1</td>\n",
       "      <td>KXIP</td>\n",
       "      <td>RCB</td>\n",
       "      <td>232</td>\n",
       "    </tr>\n",
       "    <tr>\n",
       "      <th>1500</th>\n",
       "      <td>11339</td>\n",
       "      <td>1</td>\n",
       "      <td>SRH</td>\n",
       "      <td>KXIP</td>\n",
       "      <td>232</td>\n",
       "    </tr>\n",
       "  </tbody>\n",
       "</table>\n",
       "</div>"
      ],
      "text/plain": [
       "      match_id  inning batting_team bowling_team  total_runs\n",
       "829        411       1          RCB           PW         263\n",
       "1370      7937       1          KKR         KXIP         250\n",
       "1250       620       1          RCB           GL         248\n",
       "416        206       1          CSK           RR         246\n",
       "1498     11338       1          KKR           MI         241\n",
       "122         61       1          CSK         KXIP         240\n",
       "1134       562       1          RCB           MI         235\n",
       "1426     11147       1          SRH          RCB         233\n",
       "596        296       1         KXIP          RCB         232\n",
       "1500     11339       1          SRH         KXIP         232"
      ]
     },
     "execution_count": 37,
     "metadata": {},
     "output_type": "execute_result"
    }
   ],
   "source": [
    "high_scores = delivery.groupby(['match_id', 'inning', 'batting_team', 'bowling_team'])['total_runs'].sum().reset_index()\n",
    "high_scores.nlargest(10,'total_runs')"
   ]
  },
  {
   "cell_type": "code",
   "execution_count": 38,
   "id": "synthetic-asian",
   "metadata": {},
   "outputs": [
    {
     "data": {
      "text/html": [
       "<div>\n",
       "<style scoped>\n",
       "    .dataframe tbody tr th:only-of-type {\n",
       "        vertical-align: middle;\n",
       "    }\n",
       "\n",
       "    .dataframe tbody tr th {\n",
       "        vertical-align: top;\n",
       "    }\n",
       "\n",
       "    .dataframe thead th {\n",
       "        text-align: right;\n",
       "    }\n",
       "</style>\n",
       "<table border=\"1\" class=\"dataframe\">\n",
       "  <thead>\n",
       "    <tr style=\"text-align: right;\">\n",
       "      <th></th>\n",
       "      <th>match_id</th>\n",
       "      <th>inning</th>\n",
       "      <th>batting_team</th>\n",
       "      <th>total_runs</th>\n",
       "    </tr>\n",
       "  </thead>\n",
       "  <tbody>\n",
       "    <tr>\n",
       "      <th>0</th>\n",
       "      <td>1</td>\n",
       "      <td>1</td>\n",
       "      <td>SRH</td>\n",
       "      <td>207</td>\n",
       "    </tr>\n",
       "    <tr>\n",
       "      <th>1</th>\n",
       "      <td>1</td>\n",
       "      <td>2</td>\n",
       "      <td>RCB</td>\n",
       "      <td>172</td>\n",
       "    </tr>\n",
       "    <tr>\n",
       "      <th>2</th>\n",
       "      <td>2</td>\n",
       "      <td>1</td>\n",
       "      <td>MI</td>\n",
       "      <td>184</td>\n",
       "    </tr>\n",
       "    <tr>\n",
       "      <th>3</th>\n",
       "      <td>2</td>\n",
       "      <td>2</td>\n",
       "      <td>RSP</td>\n",
       "      <td>187</td>\n",
       "    </tr>\n",
       "    <tr>\n",
       "      <th>4</th>\n",
       "      <td>3</td>\n",
       "      <td>1</td>\n",
       "      <td>GL</td>\n",
       "      <td>183</td>\n",
       "    </tr>\n",
       "    <tr>\n",
       "      <th>...</th>\n",
       "      <td>...</td>\n",
       "      <td>...</td>\n",
       "      <td>...</td>\n",
       "      <td>...</td>\n",
       "    </tr>\n",
       "    <tr>\n",
       "      <th>1523</th>\n",
       "      <td>11413</td>\n",
       "      <td>2</td>\n",
       "      <td>DC</td>\n",
       "      <td>170</td>\n",
       "    </tr>\n",
       "    <tr>\n",
       "      <th>1524</th>\n",
       "      <td>11414</td>\n",
       "      <td>1</td>\n",
       "      <td>DC</td>\n",
       "      <td>155</td>\n",
       "    </tr>\n",
       "    <tr>\n",
       "      <th>1525</th>\n",
       "      <td>11414</td>\n",
       "      <td>2</td>\n",
       "      <td>CSK</td>\n",
       "      <td>162</td>\n",
       "    </tr>\n",
       "    <tr>\n",
       "      <th>1526</th>\n",
       "      <td>11415</td>\n",
       "      <td>1</td>\n",
       "      <td>MI</td>\n",
       "      <td>152</td>\n",
       "    </tr>\n",
       "    <tr>\n",
       "      <th>1527</th>\n",
       "      <td>11415</td>\n",
       "      <td>2</td>\n",
       "      <td>CSK</td>\n",
       "      <td>157</td>\n",
       "    </tr>\n",
       "  </tbody>\n",
       "</table>\n",
       "<p>1528 rows × 4 columns</p>\n",
       "</div>"
      ],
      "text/plain": [
       "      match_id  inning batting_team  total_runs\n",
       "0            1       1          SRH         207\n",
       "1            1       2          RCB         172\n",
       "2            2       1           MI         184\n",
       "3            2       2          RSP         187\n",
       "4            3       1           GL         183\n",
       "...        ...     ...          ...         ...\n",
       "1523     11413       2           DC         170\n",
       "1524     11414       1           DC         155\n",
       "1525     11414       2          CSK         162\n",
       "1526     11415       1           MI         152\n",
       "1527     11415       2          CSK         157\n",
       "\n",
       "[1528 rows x 4 columns]"
      ]
     },
     "execution_count": 38,
     "metadata": {},
     "output_type": "execute_result"
    }
   ],
   "source": [
    "### 200+scores\n",
    "\n",
    "highest_scores = delivery.groupby(['match_id', 'inning', 'batting_team'])['total_runs'].sum().reset_index()\n",
    "highest_scores"
   ]
  },
  {
   "cell_type": "code",
   "execution_count": 39,
   "id": "opponent-method",
   "metadata": {},
   "outputs": [
    {
     "data": {
      "text/plain": [
       "Index(['match_id', 'inning', 'batting_team', 'total_runs'], dtype='object')"
      ]
     },
     "execution_count": 39,
     "metadata": {},
     "output_type": "execute_result"
    }
   ],
   "source": [
    "# highest_scores.set_index(['match_id'], inplace=True)\n",
    "highest_scores.columns"
   ]
  },
  {
   "cell_type": "code",
   "execution_count": 40,
   "id": "automated-organization",
   "metadata": {},
   "outputs": [],
   "source": [
    "high = highest_scores[highest_scores['total_runs']>200].groupby(['inning', 'batting_team']).count()"
   ]
  },
  {
   "cell_type": "code",
   "execution_count": 41,
   "id": "regulation-monkey",
   "metadata": {},
   "outputs": [
    {
     "data": {
      "text/html": [
       "<div>\n",
       "<style scoped>\n",
       "    .dataframe tbody tr th:only-of-type {\n",
       "        vertical-align: middle;\n",
       "    }\n",
       "\n",
       "    .dataframe tbody tr th {\n",
       "        vertical-align: top;\n",
       "    }\n",
       "\n",
       "    .dataframe thead tr th {\n",
       "        text-align: left;\n",
       "    }\n",
       "</style>\n",
       "<table border=\"1\" class=\"dataframe\">\n",
       "  <thead>\n",
       "    <tr>\n",
       "      <th>inning</th>\n",
       "      <th colspan=\"10\" halign=\"left\">1</th>\n",
       "      <th colspan=\"8\" halign=\"left\">2</th>\n",
       "    </tr>\n",
       "    <tr>\n",
       "      <th>batting_team</th>\n",
       "      <th>CSK</th>\n",
       "      <th>DC</th>\n",
       "      <th>DEC</th>\n",
       "      <th>GL</th>\n",
       "      <th>KKR</th>\n",
       "      <th>KXIP</th>\n",
       "      <th>MI</th>\n",
       "      <th>RCB</th>\n",
       "      <th>RR</th>\n",
       "      <th>SRH</th>\n",
       "      <th>CSK</th>\n",
       "      <th>DC</th>\n",
       "      <th>KKR</th>\n",
       "      <th>KXIP</th>\n",
       "      <th>MI</th>\n",
       "      <th>RCB</th>\n",
       "      <th>RR</th>\n",
       "      <th>SRH</th>\n",
       "    </tr>\n",
       "  </thead>\n",
       "  <tbody>\n",
       "    <tr>\n",
       "      <th>match_id</th>\n",
       "      <td>10</td>\n",
       "      <td>6</td>\n",
       "      <td>1</td>\n",
       "      <td>1</td>\n",
       "      <td>7</td>\n",
       "      <td>8</td>\n",
       "      <td>10</td>\n",
       "      <td>15</td>\n",
       "      <td>5</td>\n",
       "      <td>8</td>\n",
       "      <td>6</td>\n",
       "      <td>2</td>\n",
       "      <td>2</td>\n",
       "      <td>6</td>\n",
       "      <td>4</td>\n",
       "      <td>2</td>\n",
       "      <td>3</td>\n",
       "      <td>2</td>\n",
       "    </tr>\n",
       "    <tr>\n",
       "      <th>count</th>\n",
       "      <td>10</td>\n",
       "      <td>6</td>\n",
       "      <td>1</td>\n",
       "      <td>1</td>\n",
       "      <td>7</td>\n",
       "      <td>8</td>\n",
       "      <td>10</td>\n",
       "      <td>15</td>\n",
       "      <td>5</td>\n",
       "      <td>8</td>\n",
       "      <td>6</td>\n",
       "      <td>2</td>\n",
       "      <td>2</td>\n",
       "      <td>6</td>\n",
       "      <td>4</td>\n",
       "      <td>2</td>\n",
       "      <td>3</td>\n",
       "      <td>2</td>\n",
       "    </tr>\n",
       "  </tbody>\n",
       "</table>\n",
       "</div>"
      ],
      "text/plain": [
       "inning         1                                     2                        \\\n",
       "batting_team CSK DC DEC GL KKR KXIP  MI RCB RR SRH CSK DC KKR KXIP MI RCB RR   \n",
       "match_id      10  6   1  1   7    8  10  15  5   8   6  2   2    6  4   2  3   \n",
       "count         10  6   1  1   7    8  10  15  5   8   6  2   2    6  4   2  3   \n",
       "\n",
       "inning            \n",
       "batting_team SRH  \n",
       "match_id       2  \n",
       "count          2  "
      ]
     },
     "execution_count": 41,
     "metadata": {},
     "output_type": "execute_result"
    }
   ],
   "source": [
    "high.rename(columns={'total_runs': 'count'}).T"
   ]
  },
  {
   "cell_type": "markdown",
   "id": "closing-sheffield",
   "metadata": {},
   "source": [
    "### RCB leads the way for most 200+ scores.\n",
    "\n",
    "### But, let's see whether scoring 200+ score in the first inning, would give high chances of winning?"
   ]
  },
  {
   "cell_type": "code",
   "execution_count": 42,
   "id": "corrected-associate",
   "metadata": {},
   "outputs": [
    {
     "data": {
      "text/html": [
       "<div>\n",
       "<style scoped>\n",
       "    .dataframe tbody tr th:only-of-type {\n",
       "        vertical-align: middle;\n",
       "    }\n",
       "\n",
       "    .dataframe tbody tr th {\n",
       "        vertical-align: top;\n",
       "    }\n",
       "\n",
       "    .dataframe thead th {\n",
       "        text-align: right;\n",
       "    }\n",
       "</style>\n",
       "<table border=\"1\" class=\"dataframe\">\n",
       "  <thead>\n",
       "    <tr style=\"text-align: right;\">\n",
       "      <th></th>\n",
       "      <th>match_id</th>\n",
       "      <th>inning_x</th>\n",
       "      <th>batting_team</th>\n",
       "      <th>bowling_team</th>\n",
       "      <th>total_runs_x</th>\n",
       "      <th>inning_y</th>\n",
       "      <th>total_runs_y</th>\n",
       "    </tr>\n",
       "  </thead>\n",
       "  <tbody>\n",
       "    <tr>\n",
       "      <th>0</th>\n",
       "      <td>1</td>\n",
       "      <td>1</td>\n",
       "      <td>SRH</td>\n",
       "      <td>RCB</td>\n",
       "      <td>207</td>\n",
       "      <td>2</td>\n",
       "      <td>172</td>\n",
       "    </tr>\n",
       "    <tr>\n",
       "      <th>1</th>\n",
       "      <td>2</td>\n",
       "      <td>1</td>\n",
       "      <td>MI</td>\n",
       "      <td>RSP</td>\n",
       "      <td>184</td>\n",
       "      <td>2</td>\n",
       "      <td>187</td>\n",
       "    </tr>\n",
       "    <tr>\n",
       "      <th>2</th>\n",
       "      <td>3</td>\n",
       "      <td>1</td>\n",
       "      <td>GL</td>\n",
       "      <td>KKR</td>\n",
       "      <td>183</td>\n",
       "      <td>2</td>\n",
       "      <td>184</td>\n",
       "    </tr>\n",
       "    <tr>\n",
       "      <th>3</th>\n",
       "      <td>4</td>\n",
       "      <td>1</td>\n",
       "      <td>RSP</td>\n",
       "      <td>KXIP</td>\n",
       "      <td>163</td>\n",
       "      <td>2</td>\n",
       "      <td>164</td>\n",
       "    </tr>\n",
       "    <tr>\n",
       "      <th>4</th>\n",
       "      <td>5</td>\n",
       "      <td>1</td>\n",
       "      <td>RCB</td>\n",
       "      <td>DC</td>\n",
       "      <td>157</td>\n",
       "      <td>2</td>\n",
       "      <td>142</td>\n",
       "    </tr>\n",
       "    <tr>\n",
       "      <th>...</th>\n",
       "      <td>...</td>\n",
       "      <td>...</td>\n",
       "      <td>...</td>\n",
       "      <td>...</td>\n",
       "      <td>...</td>\n",
       "      <td>...</td>\n",
       "      <td>...</td>\n",
       "    </tr>\n",
       "    <tr>\n",
       "      <th>749</th>\n",
       "      <td>11347</td>\n",
       "      <td>1</td>\n",
       "      <td>KKR</td>\n",
       "      <td>MI</td>\n",
       "      <td>143</td>\n",
       "      <td>2</td>\n",
       "      <td>137</td>\n",
       "    </tr>\n",
       "    <tr>\n",
       "      <th>750</th>\n",
       "      <td>11412</td>\n",
       "      <td>1</td>\n",
       "      <td>CSK</td>\n",
       "      <td>MI</td>\n",
       "      <td>136</td>\n",
       "      <td>2</td>\n",
       "      <td>140</td>\n",
       "    </tr>\n",
       "    <tr>\n",
       "      <th>751</th>\n",
       "      <td>11413</td>\n",
       "      <td>1</td>\n",
       "      <td>SRH</td>\n",
       "      <td>DC</td>\n",
       "      <td>171</td>\n",
       "      <td>2</td>\n",
       "      <td>170</td>\n",
       "    </tr>\n",
       "    <tr>\n",
       "      <th>752</th>\n",
       "      <td>11414</td>\n",
       "      <td>1</td>\n",
       "      <td>DC</td>\n",
       "      <td>CSK</td>\n",
       "      <td>155</td>\n",
       "      <td>2</td>\n",
       "      <td>162</td>\n",
       "    </tr>\n",
       "    <tr>\n",
       "      <th>753</th>\n",
       "      <td>11415</td>\n",
       "      <td>1</td>\n",
       "      <td>MI</td>\n",
       "      <td>CSK</td>\n",
       "      <td>152</td>\n",
       "      <td>2</td>\n",
       "      <td>157</td>\n",
       "    </tr>\n",
       "  </tbody>\n",
       "</table>\n",
       "<p>754 rows × 7 columns</p>\n",
       "</div>"
      ],
      "text/plain": [
       "     match_id  inning_x batting_team bowling_team  total_runs_x  inning_y  \\\n",
       "0           1         1          SRH          RCB           207         2   \n",
       "1           2         1           MI          RSP           184         2   \n",
       "2           3         1           GL          KKR           183         2   \n",
       "3           4         1          RSP         KXIP           163         2   \n",
       "4           5         1          RCB           DC           157         2   \n",
       "..        ...       ...          ...          ...           ...       ...   \n",
       "749     11347         1          KKR           MI           143         2   \n",
       "750     11412         1          CSK           MI           136         2   \n",
       "751     11413         1          SRH           DC           171         2   \n",
       "752     11414         1           DC          CSK           155         2   \n",
       "753     11415         1           MI          CSK           152         2   \n",
       "\n",
       "     total_runs_y  \n",
       "0             172  \n",
       "1             187  \n",
       "2             184  \n",
       "3             164  \n",
       "4             142  \n",
       "..            ...  \n",
       "749           137  \n",
       "750           140  \n",
       "751           170  \n",
       "752           162  \n",
       "753           157  \n",
       "\n",
       "[754 rows x 7 columns]"
      ]
     },
     "execution_count": 42,
     "metadata": {},
     "output_type": "execute_result"
    }
   ],
   "source": [
    "### now we want to know if 2nd inning team chased 200+ scores\n",
    "highscores = delivery.groupby(['match_id', 'inning', 'batting_team', 'bowling_team'])['total_runs'].sum().reset_index()\n",
    "\n",
    "highscores1 = highscores[highscores['inning']==1]\n",
    "highscores2 = highscores[highscores['inning']==2]\n",
    "\n",
    "highscores1 = highscores1.merge(highscores2[['match_id', 'inning', 'total_runs']], on = 'match_id')\n",
    "highscores1"
   ]
  },
  {
   "cell_type": "code",
   "execution_count": 43,
   "id": "moved-slovenia",
   "metadata": {},
   "outputs": [
    {
     "data": {
      "text/html": [
       "<div>\n",
       "<style scoped>\n",
       "    .dataframe tbody tr th:only-of-type {\n",
       "        vertical-align: middle;\n",
       "    }\n",
       "\n",
       "    .dataframe tbody tr th {\n",
       "        vertical-align: top;\n",
       "    }\n",
       "\n",
       "    .dataframe thead th {\n",
       "        text-align: right;\n",
       "    }\n",
       "</style>\n",
       "<table border=\"1\" class=\"dataframe\">\n",
       "  <thead>\n",
       "    <tr style=\"text-align: right;\">\n",
       "      <th></th>\n",
       "      <th>match_id</th>\n",
       "      <th>inning_1</th>\n",
       "      <th>batting_team</th>\n",
       "      <th>bowling_team</th>\n",
       "      <th>inning1_score</th>\n",
       "      <th>inning_2</th>\n",
       "      <th>inning2_score</th>\n",
       "    </tr>\n",
       "  </thead>\n",
       "  <tbody>\n",
       "    <tr>\n",
       "      <th>0</th>\n",
       "      <td>1</td>\n",
       "      <td>1</td>\n",
       "      <td>SRH</td>\n",
       "      <td>RCB</td>\n",
       "      <td>207</td>\n",
       "      <td>2</td>\n",
       "      <td>172</td>\n",
       "    </tr>\n",
       "    <tr>\n",
       "      <th>8</th>\n",
       "      <td>9</td>\n",
       "      <td>1</td>\n",
       "      <td>DC</td>\n",
       "      <td>RSP</td>\n",
       "      <td>205</td>\n",
       "      <td>2</td>\n",
       "      <td>108</td>\n",
       "    </tr>\n",
       "    <tr>\n",
       "      <th>19</th>\n",
       "      <td>20</td>\n",
       "      <td>1</td>\n",
       "      <td>RCB</td>\n",
       "      <td>GL</td>\n",
       "      <td>213</td>\n",
       "      <td>2</td>\n",
       "      <td>192</td>\n",
       "    </tr>\n",
       "    <tr>\n",
       "      <th>31</th>\n",
       "      <td>32</td>\n",
       "      <td>1</td>\n",
       "      <td>SRH</td>\n",
       "      <td>KXIP</td>\n",
       "      <td>207</td>\n",
       "      <td>2</td>\n",
       "      <td>181</td>\n",
       "    </tr>\n",
       "    <tr>\n",
       "      <th>35</th>\n",
       "      <td>36</td>\n",
       "      <td>1</td>\n",
       "      <td>SRH</td>\n",
       "      <td>KKR</td>\n",
       "      <td>209</td>\n",
       "      <td>2</td>\n",
       "      <td>161</td>\n",
       "    </tr>\n",
       "    <tr>\n",
       "      <th>...</th>\n",
       "      <td>...</td>\n",
       "      <td>...</td>\n",
       "      <td>...</td>\n",
       "      <td>...</td>\n",
       "      <td>...</td>\n",
       "      <td>...</td>\n",
       "      <td>...</td>\n",
       "    </tr>\n",
       "    <tr>\n",
       "      <th>717</th>\n",
       "      <td>11315</td>\n",
       "      <td>1</td>\n",
       "      <td>KXIP</td>\n",
       "      <td>MI</td>\n",
       "      <td>204</td>\n",
       "      <td>2</td>\n",
       "      <td>210</td>\n",
       "    </tr>\n",
       "    <tr>\n",
       "      <th>728</th>\n",
       "      <td>11326</td>\n",
       "      <td>1</td>\n",
       "      <td>RCB</td>\n",
       "      <td>KKR</td>\n",
       "      <td>219</td>\n",
       "      <td>2</td>\n",
       "      <td>219</td>\n",
       "    </tr>\n",
       "    <tr>\n",
       "      <th>735</th>\n",
       "      <td>11333</td>\n",
       "      <td>1</td>\n",
       "      <td>RCB</td>\n",
       "      <td>KXIP</td>\n",
       "      <td>213</td>\n",
       "      <td>2</td>\n",
       "      <td>190</td>\n",
       "    </tr>\n",
       "    <tr>\n",
       "      <th>740</th>\n",
       "      <td>11338</td>\n",
       "      <td>1</td>\n",
       "      <td>KKR</td>\n",
       "      <td>MI</td>\n",
       "      <td>241</td>\n",
       "      <td>2</td>\n",
       "      <td>204</td>\n",
       "    </tr>\n",
       "    <tr>\n",
       "      <th>741</th>\n",
       "      <td>11339</td>\n",
       "      <td>1</td>\n",
       "      <td>SRH</td>\n",
       "      <td>KXIP</td>\n",
       "      <td>232</td>\n",
       "      <td>2</td>\n",
       "      <td>174</td>\n",
       "    </tr>\n",
       "  </tbody>\n",
       "</table>\n",
       "<p>71 rows × 7 columns</p>\n",
       "</div>"
      ],
      "text/plain": [
       "     match_id  inning_1 batting_team bowling_team  inning1_score  inning_2  \\\n",
       "0           1         1          SRH          RCB            207         2   \n",
       "8           9         1           DC          RSP            205         2   \n",
       "19         20         1          RCB           GL            213         2   \n",
       "31         32         1          SRH         KXIP            207         2   \n",
       "35         36         1          SRH          KKR            209         2   \n",
       "..        ...       ...          ...          ...            ...       ...   \n",
       "717     11315         1         KXIP           MI            204         2   \n",
       "728     11326         1          RCB          KKR            219         2   \n",
       "735     11333         1          RCB         KXIP            213         2   \n",
       "740     11338         1          KKR           MI            241         2   \n",
       "741     11339         1          SRH         KXIP            232         2   \n",
       "\n",
       "     inning2_score  \n",
       "0              172  \n",
       "8              108  \n",
       "19             192  \n",
       "31             181  \n",
       "35             161  \n",
       "..             ...  \n",
       "717            210  \n",
       "728            219  \n",
       "735            190  \n",
       "740            204  \n",
       "741            174  \n",
       "\n",
       "[71 rows x 7 columns]"
      ]
     },
     "execution_count": 43,
     "metadata": {},
     "output_type": "execute_result"
    }
   ],
   "source": [
    "highscores1.rename(columns={'inning_x': 'inning_1',\n",
    "                            'inning_y': 'inning_2',\n",
    "                            'total_runs_x': 'inning1_score',\n",
    "                            'total_runs_y': 'inning2_score'}, inplace=True)\n",
    "\n",
    "highscores1 = highscores1[highscores1['inning1_score']>200]\n",
    "highscores1"
   ]
  },
  {
   "cell_type": "code",
   "execution_count": 44,
   "id": "registered-seafood",
   "metadata": {},
   "outputs": [
    {
     "name": "stderr",
     "output_type": "stream",
     "text": [
      "<ipython-input-44-5d6f589b7f5f>:1: SettingWithCopyWarning: \n",
      "A value is trying to be set on a copy of a slice from a DataFrame.\n",
      "Try using .loc[row_indexer,col_indexer] = value instead\n",
      "\n",
      "See the caveats in the documentation: https://pandas.pydata.org/pandas-docs/stable/user_guide/indexing.html#returning-a-view-versus-a-copy\n",
      "  highscores1['is_score_chased']=1\n",
      "<ipython-input-44-5d6f589b7f5f>:2: SettingWithCopyWarning: \n",
      "A value is trying to be set on a copy of a slice from a DataFrame.\n",
      "Try using .loc[row_indexer,col_indexer] = value instead\n",
      "\n",
      "See the caveats in the documentation: https://pandas.pydata.org/pandas-docs/stable/user_guide/indexing.html#returning-a-view-versus-a-copy\n",
      "  highscores1['is_score_chased'] = np.where(highscores1['inning1_score']<=highscores1['inning2_score'], 'yes', 'no')\n"
     ]
    }
   ],
   "source": [
    "highscores1['is_score_chased']=1\n",
    "highscores1['is_score_chased'] = np.where(highscores1['inning1_score']<=highscores1['inning2_score'], 'yes', 'no')"
   ]
  },
  {
   "cell_type": "code",
   "execution_count": 45,
   "id": "detected-working",
   "metadata": {},
   "outputs": [
    {
     "data": {
      "text/html": [
       "<div>\n",
       "<style scoped>\n",
       "    .dataframe tbody tr th:only-of-type {\n",
       "        vertical-align: middle;\n",
       "    }\n",
       "\n",
       "    .dataframe tbody tr th {\n",
       "        vertical-align: top;\n",
       "    }\n",
       "\n",
       "    .dataframe thead th {\n",
       "        text-align: right;\n",
       "    }\n",
       "</style>\n",
       "<table border=\"1\" class=\"dataframe\">\n",
       "  <thead>\n",
       "    <tr style=\"text-align: right;\">\n",
       "      <th></th>\n",
       "      <th>match_id</th>\n",
       "      <th>inning_1</th>\n",
       "      <th>batting_team</th>\n",
       "      <th>bowling_team</th>\n",
       "      <th>inning1_score</th>\n",
       "      <th>inning_2</th>\n",
       "      <th>inning2_score</th>\n",
       "      <th>is_score_chased</th>\n",
       "    </tr>\n",
       "  </thead>\n",
       "  <tbody>\n",
       "    <tr>\n",
       "      <th>0</th>\n",
       "      <td>1</td>\n",
       "      <td>1</td>\n",
       "      <td>SRH</td>\n",
       "      <td>RCB</td>\n",
       "      <td>207</td>\n",
       "      <td>2</td>\n",
       "      <td>172</td>\n",
       "      <td>no</td>\n",
       "    </tr>\n",
       "    <tr>\n",
       "      <th>8</th>\n",
       "      <td>9</td>\n",
       "      <td>1</td>\n",
       "      <td>DC</td>\n",
       "      <td>RSP</td>\n",
       "      <td>205</td>\n",
       "      <td>2</td>\n",
       "      <td>108</td>\n",
       "      <td>no</td>\n",
       "    </tr>\n",
       "    <tr>\n",
       "      <th>19</th>\n",
       "      <td>20</td>\n",
       "      <td>1</td>\n",
       "      <td>RCB</td>\n",
       "      <td>GL</td>\n",
       "      <td>213</td>\n",
       "      <td>2</td>\n",
       "      <td>192</td>\n",
       "      <td>no</td>\n",
       "    </tr>\n",
       "    <tr>\n",
       "      <th>31</th>\n",
       "      <td>32</td>\n",
       "      <td>1</td>\n",
       "      <td>SRH</td>\n",
       "      <td>KXIP</td>\n",
       "      <td>207</td>\n",
       "      <td>2</td>\n",
       "      <td>181</td>\n",
       "      <td>no</td>\n",
       "    </tr>\n",
       "    <tr>\n",
       "      <th>35</th>\n",
       "      <td>36</td>\n",
       "      <td>1</td>\n",
       "      <td>SRH</td>\n",
       "      <td>KKR</td>\n",
       "      <td>209</td>\n",
       "      <td>2</td>\n",
       "      <td>161</td>\n",
       "      <td>no</td>\n",
       "    </tr>\n",
       "    <tr>\n",
       "      <th>...</th>\n",
       "      <td>...</td>\n",
       "      <td>...</td>\n",
       "      <td>...</td>\n",
       "      <td>...</td>\n",
       "      <td>...</td>\n",
       "      <td>...</td>\n",
       "      <td>...</td>\n",
       "      <td>...</td>\n",
       "    </tr>\n",
       "    <tr>\n",
       "      <th>717</th>\n",
       "      <td>11315</td>\n",
       "      <td>1</td>\n",
       "      <td>KXIP</td>\n",
       "      <td>MI</td>\n",
       "      <td>204</td>\n",
       "      <td>2</td>\n",
       "      <td>210</td>\n",
       "      <td>yes</td>\n",
       "    </tr>\n",
       "    <tr>\n",
       "      <th>728</th>\n",
       "      <td>11326</td>\n",
       "      <td>1</td>\n",
       "      <td>RCB</td>\n",
       "      <td>KKR</td>\n",
       "      <td>219</td>\n",
       "      <td>2</td>\n",
       "      <td>219</td>\n",
       "      <td>yes</td>\n",
       "    </tr>\n",
       "    <tr>\n",
       "      <th>735</th>\n",
       "      <td>11333</td>\n",
       "      <td>1</td>\n",
       "      <td>RCB</td>\n",
       "      <td>KXIP</td>\n",
       "      <td>213</td>\n",
       "      <td>2</td>\n",
       "      <td>190</td>\n",
       "      <td>no</td>\n",
       "    </tr>\n",
       "    <tr>\n",
       "      <th>740</th>\n",
       "      <td>11338</td>\n",
       "      <td>1</td>\n",
       "      <td>KKR</td>\n",
       "      <td>MI</td>\n",
       "      <td>241</td>\n",
       "      <td>2</td>\n",
       "      <td>204</td>\n",
       "      <td>no</td>\n",
       "    </tr>\n",
       "    <tr>\n",
       "      <th>741</th>\n",
       "      <td>11339</td>\n",
       "      <td>1</td>\n",
       "      <td>SRH</td>\n",
       "      <td>KXIP</td>\n",
       "      <td>232</td>\n",
       "      <td>2</td>\n",
       "      <td>174</td>\n",
       "      <td>no</td>\n",
       "    </tr>\n",
       "  </tbody>\n",
       "</table>\n",
       "<p>71 rows × 8 columns</p>\n",
       "</div>"
      ],
      "text/plain": [
       "     match_id  inning_1 batting_team bowling_team  inning1_score  inning_2  \\\n",
       "0           1         1          SRH          RCB            207         2   \n",
       "8           9         1           DC          RSP            205         2   \n",
       "19         20         1          RCB           GL            213         2   \n",
       "31         32         1          SRH         KXIP            207         2   \n",
       "35         36         1          SRH          KKR            209         2   \n",
       "..        ...       ...          ...          ...            ...       ...   \n",
       "717     11315         1         KXIP           MI            204         2   \n",
       "728     11326         1          RCB          KKR            219         2   \n",
       "735     11333         1          RCB         KXIP            213         2   \n",
       "740     11338         1          KKR           MI            241         2   \n",
       "741     11339         1          SRH         KXIP            232         2   \n",
       "\n",
       "     inning2_score is_score_chased  \n",
       "0              172              no  \n",
       "8              108              no  \n",
       "19             192              no  \n",
       "31             181              no  \n",
       "35             161              no  \n",
       "..             ...             ...  \n",
       "717            210             yes  \n",
       "728            219             yes  \n",
       "735            190              no  \n",
       "740            204              no  \n",
       "741            174              no  \n",
       "\n",
       "[71 rows x 8 columns]"
      ]
     },
     "execution_count": 45,
     "metadata": {},
     "output_type": "execute_result"
    }
   ],
   "source": [
    "highscores1"
   ]
  },
  {
   "cell_type": "code",
   "execution_count": 46,
   "id": "interesting-plaza",
   "metadata": {},
   "outputs": [],
   "source": [
    "### ratio of chasing the mammoth score of 200+\n",
    "# slices = highscores1['is_score_chased'].value_counts().reset_index().is_score_chased\n",
    "# list(slices)"
   ]
  },
  {
   "cell_type": "code",
   "execution_count": 47,
   "id": "informational-warrior",
   "metadata": {},
   "outputs": [
    {
     "data": {
      "image/png": "[encoded data removed]",
      "text/plain": [
       "<Figure size 504x504 with 1 Axes>"
      ]
     },
     "metadata": {},
     "output_type": "display_data"
    }
   ],
   "source": [
    "labels = ['target not chased', 'target chased']\n",
    "plt.pie(slices, labels=labels, colors=['#C2E2E2', '#808000'], startangle=90, shadow=True, explode=(0,0.1), autopct='%1.1f%%')\n",
    "fig = plt.gcf()\n",
    "fig.set_size_inches(7,7)\n",
    "plt.title('Chances of Chasing Mammoth score of 200+')\n",
    "plt.show()"
   ]
  },
  {
   "cell_type": "markdown",
   "id": "complicated-defensive",
   "metadata": {},
   "source": [
    "### According to history, if a team scores 200+ in the first inning; there is 83.1% chance that they would win."
   ]
  },
  {
   "cell_type": "markdown",
   "id": "oriented-anchor",
   "metadata": {},
   "source": [
    "### All time leading wicket takers."
   ]
  },
  {
   "cell_type": "code",
   "execution_count": 48,
   "id": "distinct-observer",
   "metadata": {},
   "outputs": [
    {
     "data": {
      "text/plain": [
       "0                        170244\n",
       "caught                     5348\n",
       "bowled                     1581\n",
       "run out                     852\n",
       "lbw                         540\n",
       "stumped                     278\n",
       "caught and bowled           211\n",
       "retired hurt                 12\n",
       "hit wicket                   10\n",
       "obstructing the field         2\n",
       "Name: dismissal_kind, dtype: int64"
      ]
     },
     "execution_count": 48,
     "metadata": {},
     "output_type": "execute_result"
    }
   ],
   "source": [
    "## all time leading wicket takers\n",
    "\n",
    "delivery['dismissal_kind'].value_counts()"
   ]
  },
  {
   "cell_type": "code",
   "execution_count": 49,
   "id": "earned-brief",
   "metadata": {},
   "outputs": [
    {
     "data": {
      "image/png": "[encoded data removed]",
      "text/plain": [
       "<Figure size 432x288 with 1 Axes>"
      ]
     },
     "metadata": {},
     "output_type": "display_data"
    }
   ],
   "source": [
    "dismissal = ['caught', 'bowled', 'lbw', 'stumped', 'caught and bowled', 'hit wicket']\n",
    "\n",
    "most_wickets = delivery[delivery['dismissal_kind'].isin(dismissal)]\n",
    "ax = most_wickets['bowler'].value_counts()[:11].plot.bar(width=0.8, color=['#F0F0F0', '#C2E2E2'])\n",
    "\n",
    "for fig in ax.patches:\n",
    "    ax.annotate(format(fig.get_height()), (fig.get_x()+0.15, fig.get_height()+1))"
   ]
  },
  {
   "cell_type": "markdown",
   "id": "touched-mobility",
   "metadata": {},
   "source": [
    "### It is no surprise thtat L. Malinga leads the chart for most wickets in IPL History."
   ]
  },
  {
   "cell_type": "markdown",
   "id": "suited-broadway",
   "metadata": {},
   "source": [
    "### Teams with maximum sixes in IPL History."
   ]
  },
  {
   "cell_type": "code",
   "execution_count": 50,
   "id": "sharp-charleston",
   "metadata": {},
   "outputs": [
    {
     "data": {
      "text/html": [
       "<div>\n",
       "<style scoped>\n",
       "    .dataframe tbody tr th:only-of-type {\n",
       "        vertical-align: middle;\n",
       "    }\n",
       "\n",
       "    .dataframe tbody tr th {\n",
       "        vertical-align: top;\n",
       "    }\n",
       "\n",
       "    .dataframe thead th {\n",
       "        text-align: right;\n",
       "    }\n",
       "</style>\n",
       "<table border=\"1\" class=\"dataframe\">\n",
       "  <thead>\n",
       "    <tr style=\"text-align: right;\">\n",
       "      <th></th>\n",
       "      <th>match_id</th>\n",
       "      <th>inning</th>\n",
       "      <th>batting_team</th>\n",
       "      <th>bowling_team</th>\n",
       "      <th>over</th>\n",
       "      <th>ball</th>\n",
       "      <th>batsman</th>\n",
       "      <th>non_striker</th>\n",
       "      <th>bowler</th>\n",
       "      <th>is_super_over</th>\n",
       "      <th>wide_runs</th>\n",
       "      <th>bye_runs</th>\n",
       "      <th>legbye_runs</th>\n",
       "      <th>noball_runs</th>\n",
       "      <th>penalty_runs</th>\n",
       "      <th>batsman_runs</th>\n",
       "      <th>extra_runs</th>\n",
       "      <th>total_runs</th>\n",
       "      <th>player_dismissed</th>\n",
       "      <th>dismissal_kind</th>\n",
       "      <th>fielder</th>\n",
       "    </tr>\n",
       "  </thead>\n",
       "  <tbody>\n",
       "    <tr>\n",
       "      <th>0</th>\n",
       "      <td>1</td>\n",
       "      <td>1</td>\n",
       "      <td>SRH</td>\n",
       "      <td>RCB</td>\n",
       "      <td>1</td>\n",
       "      <td>1</td>\n",
       "      <td>DA Warner</td>\n",
       "      <td>S Dhawan</td>\n",
       "      <td>TS Mills</td>\n",
       "      <td>0</td>\n",
       "      <td>0</td>\n",
       "      <td>0</td>\n",
       "      <td>0</td>\n",
       "      <td>0</td>\n",
       "      <td>0</td>\n",
       "      <td>0</td>\n",
       "      <td>0</td>\n",
       "      <td>0</td>\n",
       "      <td>0</td>\n",
       "      <td>0</td>\n",
       "      <td>0</td>\n",
       "    </tr>\n",
       "    <tr>\n",
       "      <th>1</th>\n",
       "      <td>1</td>\n",
       "      <td>1</td>\n",
       "      <td>SRH</td>\n",
       "      <td>RCB</td>\n",
       "      <td>1</td>\n",
       "      <td>2</td>\n",
       "      <td>DA Warner</td>\n",
       "      <td>S Dhawan</td>\n",
       "      <td>TS Mills</td>\n",
       "      <td>0</td>\n",
       "      <td>0</td>\n",
       "      <td>0</td>\n",
       "      <td>0</td>\n",
       "      <td>0</td>\n",
       "      <td>0</td>\n",
       "      <td>0</td>\n",
       "      <td>0</td>\n",
       "      <td>0</td>\n",
       "      <td>0</td>\n",
       "      <td>0</td>\n",
       "      <td>0</td>\n",
       "    </tr>\n",
       "    <tr>\n",
       "      <th>2</th>\n",
       "      <td>1</td>\n",
       "      <td>1</td>\n",
       "      <td>SRH</td>\n",
       "      <td>RCB</td>\n",
       "      <td>1</td>\n",
       "      <td>3</td>\n",
       "      <td>DA Warner</td>\n",
       "      <td>S Dhawan</td>\n",
       "      <td>TS Mills</td>\n",
       "      <td>0</td>\n",
       "      <td>0</td>\n",
       "      <td>0</td>\n",
       "      <td>0</td>\n",
       "      <td>0</td>\n",
       "      <td>0</td>\n",
       "      <td>4</td>\n",
       "      <td>0</td>\n",
       "      <td>4</td>\n",
       "      <td>0</td>\n",
       "      <td>0</td>\n",
       "      <td>0</td>\n",
       "    </tr>\n",
       "    <tr>\n",
       "      <th>3</th>\n",
       "      <td>1</td>\n",
       "      <td>1</td>\n",
       "      <td>SRH</td>\n",
       "      <td>RCB</td>\n",
       "      <td>1</td>\n",
       "      <td>4</td>\n",
       "      <td>DA Warner</td>\n",
       "      <td>S Dhawan</td>\n",
       "      <td>TS Mills</td>\n",
       "      <td>0</td>\n",
       "      <td>0</td>\n",
       "      <td>0</td>\n",
       "      <td>0</td>\n",
       "      <td>0</td>\n",
       "      <td>0</td>\n",
       "      <td>0</td>\n",
       "      <td>0</td>\n",
       "      <td>0</td>\n",
       "      <td>0</td>\n",
       "      <td>0</td>\n",
       "      <td>0</td>\n",
       "    </tr>\n",
       "    <tr>\n",
       "      <th>4</th>\n",
       "      <td>1</td>\n",
       "      <td>1</td>\n",
       "      <td>SRH</td>\n",
       "      <td>RCB</td>\n",
       "      <td>1</td>\n",
       "      <td>5</td>\n",
       "      <td>DA Warner</td>\n",
       "      <td>S Dhawan</td>\n",
       "      <td>TS Mills</td>\n",
       "      <td>0</td>\n",
       "      <td>2</td>\n",
       "      <td>0</td>\n",
       "      <td>0</td>\n",
       "      <td>0</td>\n",
       "      <td>0</td>\n",
       "      <td>0</td>\n",
       "      <td>2</td>\n",
       "      <td>2</td>\n",
       "      <td>0</td>\n",
       "      <td>0</td>\n",
       "      <td>0</td>\n",
       "    </tr>\n",
       "  </tbody>\n",
       "</table>\n",
       "</div>"
      ],
      "text/plain": [
       "   match_id  inning batting_team bowling_team  over  ball    batsman  \\\n",
       "0         1       1          SRH          RCB     1     1  DA Warner   \n",
       "1         1       1          SRH          RCB     1     2  DA Warner   \n",
       "2         1       1          SRH          RCB     1     3  DA Warner   \n",
       "3         1       1          SRH          RCB     1     4  DA Warner   \n",
       "4         1       1          SRH          RCB     1     5  DA Warner   \n",
       "\n",
       "  non_striker    bowler  is_super_over  wide_runs  bye_runs  legbye_runs  \\\n",
       "0    S Dhawan  TS Mills              0          0         0            0   \n",
       "1    S Dhawan  TS Mills              0          0         0            0   \n",
       "2    S Dhawan  TS Mills              0          0         0            0   \n",
       "3    S Dhawan  TS Mills              0          0         0            0   \n",
       "4    S Dhawan  TS Mills              0          2         0            0   \n",
       "\n",
       "   noball_runs  penalty_runs  batsman_runs  extra_runs  total_runs  \\\n",
       "0            0             0             0           0           0   \n",
       "1            0             0             0           0           0   \n",
       "2            0             0             4           0           4   \n",
       "3            0             0             0           0           0   \n",
       "4            0             0             0           2           2   \n",
       "\n",
       "  player_dismissed dismissal_kind fielder  \n",
       "0                0              0       0  \n",
       "1                0              0       0  \n",
       "2                0              0       0  \n",
       "3                0              0       0  \n",
       "4                0              0       0  "
      ]
     },
     "execution_count": 50,
     "metadata": {},
     "output_type": "execute_result"
    }
   ],
   "source": [
    "### teams with maximum sixes\n",
    "pd.set_option('Display.max_columns',None)\n",
    "delivery.head()"
   ]
  },
  {
   "cell_type": "code",
   "execution_count": 51,
   "id": "pacific-magnitude",
   "metadata": {},
   "outputs": [
    {
     "data": {
      "image/png": "[encoded data removed]",
      "text/plain": [
       "<Figure size 432x288 with 1 Axes>"
      ]
     },
     "metadata": {},
     "output_type": "display_data"
    }
   ],
   "source": [
    "ax = delivery[delivery['batsman_runs']==6].batting_team.value_counts().plot.bar(width=0.8, color=['#F0F000', '#C2E2E2'])\n",
    "\n",
    "for fig in ax.patches:\n",
    "    ax.annotate(format(fig.get_height()), (fig.get_x()+0.10, fig.get_height()+1))\n"
   ]
  },
  {
   "cell_type": "markdown",
   "id": "spread-halloween",
   "metadata": {},
   "source": [
    "## No wonder RCB leads this chart as they have Kohli, ABD and Gayle factor.\n",
    "## MI is slightly behind them and with the form they play in, it would not be a surprise, if they would  top this chart in future."
   ]
  },
  {
   "cell_type": "markdown",
   "id": "proprietary-symbol",
   "metadata": {},
   "source": [
    "### That's all from my side. Thank You!"
   ]
  },
  {
   "cell_type": "code",
   "execution_count": null,
   "id": "binding-family",
   "metadata": {},
   "outputs": [],
   "source": []
  }
 ],
 "metadata": {
  "kernelspec": {
   "display_name": "Python 3",
   "language": "python",
   "name": "python3"
  },
  "language_info": {
   "codemirror_mode": {
    "name": "ipython",
    "version": 3
   },
   "file_extension": ".py",
   "mimetype": "text/x-python",
   "name": "python",
   "nbconvert_exporter": "python",
   "pygments_lexer": "ipython3",
   "version": "3.8.6"
  }
 },
 "nbformat": 4,
 "nbformat_minor": 5
}
